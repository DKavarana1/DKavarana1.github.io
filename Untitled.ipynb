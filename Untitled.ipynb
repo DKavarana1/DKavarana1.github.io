{
 "cells": [
  {
   "cell_type": "code",
   "execution_count": 1,
   "id": "6efc7926",
   "metadata": {},
   "outputs": [
    {
     "data": {
      "text/plain": [
       "'Darius Kavarana & Ziad Bandak'"
      ]
     },
     "execution_count": 1,
     "metadata": {},
     "output_type": "execute_result"
    }
   ],
   "source": [
    "'''Title'''\n",
    "'''Darius Kavarana & Ziad Bandak'''"
   ]
  },
  {
   "cell_type": "code",
   "execution_count": 2,
   "id": "55b5a804",
   "metadata": {},
   "outputs": [
    {
     "data": {
      "text/plain": [
       "'Introduction'"
      ]
     },
     "execution_count": 2,
     "metadata": {},
     "output_type": "execute_result"
    }
   ],
   "source": [
    "'''Introduction'''"
   ]
  },
  {
   "cell_type": "code",
   "execution_count": 8,
   "id": "5f75af66",
   "metadata": {},
   "outputs": [],
   "source": [
    "#Imports\n",
    "import pandas as pd\n",
    "import numpy as np\n",
    "import matplotlib.pyplot as plt\n",
    "import requests\n",
    "from bs4 import BeautifulSoup as bs\n",
    "from sklearn.preprocessing import PolynomialFeatures\n",
    "from sklearn.pipeline import make_pipeline\n",
    "from sklearn.linear_model import LinearRegression\n",
    "import matplotlib.ticker as ticker"
   ]
  },
  {
   "cell_type": "code",
   "execution_count": 9,
   "id": "f49975ba",
   "metadata": {},
   "outputs": [
    {
     "data": {
      "text/plain": [
       "'Data Collection'"
      ]
     },
     "execution_count": 9,
     "metadata": {},
     "output_type": "execute_result"
    }
   ],
   "source": [
    "'''Data Collection – revisit once datasets are decided'''"
   ]
  },
  {
   "cell_type": "code",
   "execution_count": 14,
   "id": "119e59e4",
   "metadata": {},
   "outputs": [],
   "source": [
    "#advantage point data pull -> pull the api key and process from project 4 only if needed\n",
    "\n",
    "api_key = '5QS5ILSVQ77FI9ND'\n",
    "url = f'https://www.alphavantage.co/query?function=TIME_SERIES_DAILY&symbol=IBM&apikey={api_key}&outputsize=full'\n",
    "\n",
    "# # https://www.alphavantage.co/documentation/#daily\n",
    "\n",
    "#change key and link if we use different data from this website. this is from my p4\n",
    "\n",
    "response = requests.get(url)\n",
    "data = response.json()['Time Series (Daily)']\n",
    "\n",
    "#we are doing this so we dont run out of api key pulls to view data use this. Everytime we call the above line we use one pull for the day\n",
    "with open('data_proj4.json', 'w') as f: \n",
    "    json.dump(data, f)"
   ]
  },
  {
   "cell_type": "code",
   "execution_count": 11,
   "id": "01dc1a15",
   "metadata": {},
   "outputs": [],
   "source": [
    "#kaggle dataset\n",
    "import json\n",
    "\n",
    "with open('price-volume-data-for-all-us-stocks-etfs-metadata.json', 'r') as file:\n",
    "    data = json.load(file)\n",
    "\n",
    "# for x in data:\n",
    "#     print(f\"Column1: {x['column1']}, Column2: {x['column2']}\")"
   ]
  },
  {
   "cell_type": "code",
   "execution_count": 13,
   "id": "9194da9e",
   "metadata": {},
   "outputs": [
    {
     "data": {
      "text/html": [
       "<div>\n",
       "<style scoped>\n",
       "    .dataframe tbody tr th:only-of-type {\n",
       "        vertical-align: middle;\n",
       "    }\n",
       "\n",
       "    .dataframe tbody tr th {\n",
       "        vertical-align: top;\n",
       "    }\n",
       "\n",
       "    .dataframe thead th {\n",
       "        text-align: right;\n",
       "    }\n",
       "</style>\n",
       "<table border=\"1\" class=\"dataframe\">\n",
       "  <thead>\n",
       "    <tr style=\"text-align: right;\">\n",
       "      <th></th>\n",
       "      <th>Symbol</th>\n",
       "      <th>Security</th>\n",
       "      <th>GICS  Sector</th>\n",
       "      <th>GICS Sub-Industry</th>\n",
       "      <th>Headquarters Location</th>\n",
       "      <th>Date added</th>\n",
       "      <th>CIK</th>\n",
       "      <th>Founded</th>\n",
       "    </tr>\n",
       "  </thead>\n",
       "  <tbody>\n",
       "    <tr>\n",
       "      <th>0</th>\n",
       "      <td>MMM</td>\n",
       "      <td>3M</td>\n",
       "      <td>Industrials</td>\n",
       "      <td>Industrial Conglomerates</td>\n",
       "      <td>Saint Paul, Minnesota</td>\n",
       "      <td>1957-03-04</td>\n",
       "      <td>66740</td>\n",
       "      <td>1902</td>\n",
       "    </tr>\n",
       "    <tr>\n",
       "      <th>1</th>\n",
       "      <td>AOS</td>\n",
       "      <td>A. O. Smith</td>\n",
       "      <td>Industrials</td>\n",
       "      <td>Building Products</td>\n",
       "      <td>Milwaukee, Wisconsin</td>\n",
       "      <td>2017-07-26</td>\n",
       "      <td>91142</td>\n",
       "      <td>1916</td>\n",
       "    </tr>\n",
       "    <tr>\n",
       "      <th>2</th>\n",
       "      <td>ABT</td>\n",
       "      <td>Abbott</td>\n",
       "      <td>Health Care</td>\n",
       "      <td>Health Care Equipment</td>\n",
       "      <td>North Chicago, Illinois</td>\n",
       "      <td>1957-03-04</td>\n",
       "      <td>1800</td>\n",
       "      <td>1888</td>\n",
       "    </tr>\n",
       "    <tr>\n",
       "      <th>3</th>\n",
       "      <td>ABBV</td>\n",
       "      <td>AbbVie</td>\n",
       "      <td>Health Care</td>\n",
       "      <td>Biotechnology</td>\n",
       "      <td>North Chicago, Illinois</td>\n",
       "      <td>2012-12-31</td>\n",
       "      <td>1551152</td>\n",
       "      <td>2013 (1888)</td>\n",
       "    </tr>\n",
       "    <tr>\n",
       "      <th>4</th>\n",
       "      <td>ACN</td>\n",
       "      <td>Accenture</td>\n",
       "      <td>Information Technology</td>\n",
       "      <td>IT Consulting &amp; Other Services</td>\n",
       "      <td>Dublin, Ireland</td>\n",
       "      <td>2011-07-06</td>\n",
       "      <td>1467373</td>\n",
       "      <td>1989</td>\n",
       "    </tr>\n",
       "    <tr>\n",
       "      <th>...</th>\n",
       "      <td>...</td>\n",
       "      <td>...</td>\n",
       "      <td>...</td>\n",
       "      <td>...</td>\n",
       "      <td>...</td>\n",
       "      <td>...</td>\n",
       "      <td>...</td>\n",
       "      <td>...</td>\n",
       "    </tr>\n",
       "    <tr>\n",
       "      <th>498</th>\n",
       "      <td>XYL</td>\n",
       "      <td>Xylem Inc.</td>\n",
       "      <td>Industrials</td>\n",
       "      <td>Industrial Machinery &amp; Supplies &amp; Components</td>\n",
       "      <td>White Plains, New York</td>\n",
       "      <td>2011-11-01</td>\n",
       "      <td>1524472</td>\n",
       "      <td>2011</td>\n",
       "    </tr>\n",
       "    <tr>\n",
       "      <th>499</th>\n",
       "      <td>YUM</td>\n",
       "      <td>Yum! Brands</td>\n",
       "      <td>Consumer Discretionary</td>\n",
       "      <td>Restaurants</td>\n",
       "      <td>Louisville, Kentucky</td>\n",
       "      <td>1997-10-06</td>\n",
       "      <td>1041061</td>\n",
       "      <td>1997</td>\n",
       "    </tr>\n",
       "    <tr>\n",
       "      <th>500</th>\n",
       "      <td>ZBRA</td>\n",
       "      <td>Zebra Technologies</td>\n",
       "      <td>Information Technology</td>\n",
       "      <td>Electronic Equipment &amp; Instruments</td>\n",
       "      <td>Lincolnshire, Illinois</td>\n",
       "      <td>2019-12-23</td>\n",
       "      <td>877212</td>\n",
       "      <td>1969</td>\n",
       "    </tr>\n",
       "    <tr>\n",
       "      <th>501</th>\n",
       "      <td>ZBH</td>\n",
       "      <td>Zimmer Biomet</td>\n",
       "      <td>Health Care</td>\n",
       "      <td>Health Care Equipment</td>\n",
       "      <td>Warsaw, Indiana</td>\n",
       "      <td>2001-08-07</td>\n",
       "      <td>1136869</td>\n",
       "      <td>1927</td>\n",
       "    </tr>\n",
       "    <tr>\n",
       "      <th>502</th>\n",
       "      <td>ZTS</td>\n",
       "      <td>Zoetis</td>\n",
       "      <td>Health Care</td>\n",
       "      <td>Pharmaceuticals</td>\n",
       "      <td>Parsippany, New Jersey</td>\n",
       "      <td>2013-06-21</td>\n",
       "      <td>1555280</td>\n",
       "      <td>1952</td>\n",
       "    </tr>\n",
       "  </tbody>\n",
       "</table>\n",
       "<p>503 rows × 8 columns</p>\n",
       "</div>"
      ],
      "text/plain": [
       "    Symbol            Security            GICS  Sector  \\\n",
       "0      MMM                  3M             Industrials   \n",
       "1      AOS         A. O. Smith             Industrials   \n",
       "2      ABT              Abbott             Health Care   \n",
       "3     ABBV              AbbVie             Health Care   \n",
       "4      ACN           Accenture  Information Technology   \n",
       "..     ...                 ...                     ...   \n",
       "498    XYL          Xylem Inc.             Industrials   \n",
       "499    YUM         Yum! Brands  Consumer Discretionary   \n",
       "500   ZBRA  Zebra Technologies  Information Technology   \n",
       "501    ZBH       Zimmer Biomet             Health Care   \n",
       "502    ZTS              Zoetis             Health Care   \n",
       "\n",
       "                                GICS Sub-Industry    Headquarters Location  \\\n",
       "0                        Industrial Conglomerates    Saint Paul, Minnesota   \n",
       "1                               Building Products     Milwaukee, Wisconsin   \n",
       "2                           Health Care Equipment  North Chicago, Illinois   \n",
       "3                                   Biotechnology  North Chicago, Illinois   \n",
       "4                  IT Consulting & Other Services          Dublin, Ireland   \n",
       "..                                            ...                      ...   \n",
       "498  Industrial Machinery & Supplies & Components   White Plains, New York   \n",
       "499                                   Restaurants     Louisville, Kentucky   \n",
       "500            Electronic Equipment & Instruments   Lincolnshire, Illinois   \n",
       "501                         Health Care Equipment          Warsaw, Indiana   \n",
       "502                               Pharmaceuticals   Parsippany, New Jersey   \n",
       "\n",
       "     Date added      CIK      Founded  \n",
       "0    1957-03-04    66740         1902  \n",
       "1    2017-07-26    91142         1916  \n",
       "2    1957-03-04     1800         1888  \n",
       "3    2012-12-31  1551152  2013 (1888)  \n",
       "4    2011-07-06  1467373         1989  \n",
       "..          ...      ...          ...  \n",
       "498  2011-11-01  1524472         2011  \n",
       "499  1997-10-06  1041061         1997  \n",
       "500  2019-12-23   877212         1969  \n",
       "501  2001-08-07  1136869         1927  \n",
       "502  2013-06-21  1555280         1952  \n",
       "\n",
       "[503 rows x 8 columns]"
      ]
     },
     "execution_count": 13,
     "metadata": {},
     "output_type": "execute_result"
    }
   ],
   "source": [
    "#wiki data of stocks -> same code from example but no real way to change this other than variable names\n",
    "req = requests.get('https://en.wikipedia.org/wiki/List_of_S%26P_500_companies')\n",
    "root = bs(req.content, \"html\")\n",
    "data = pd.read_html(root.find('table').prettify())[0]\n",
    "data"
   ]
  },
  {
   "cell_type": "code",
   "execution_count": null,
   "id": "e953b14f",
   "metadata": {},
   "outputs": [],
   "source": [
    "#yahoo finance api -> not sure how to do"
   ]
  },
  {
   "cell_type": "code",
   "execution_count": null,
   "id": "1ee5cffa",
   "metadata": {},
   "outputs": [],
   "source": []
  },
  {
   "cell_type": "code",
   "execution_count": null,
   "id": "21259a5c",
   "metadata": {},
   "outputs": [],
   "source": [
    "'''Data Processing'''"
   ]
  },
  {
   "cell_type": "code",
   "execution_count": null,
   "id": "a5697886",
   "metadata": {},
   "outputs": [],
   "source": [
    "#Clean and preprocess the data to handle missing values and normalize features. (each dataset should use 2 min)\n"
   ]
  },
  {
   "cell_type": "code",
   "execution_count": null,
   "id": "4fc1e4b1",
   "metadata": {},
   "outputs": [],
   "source": [
    "#make the dataframes for each"
   ]
  },
  {
   "cell_type": "code",
   "execution_count": null,
   "id": "b870504c",
   "metadata": {},
   "outputs": [],
   "source": [
    "#merge the needed values from each dataset into one new one"
   ]
  },
  {
   "cell_type": "code",
   "execution_count": null,
   "id": "8ac7c46e",
   "metadata": {},
   "outputs": [],
   "source": [
    "# depedning on proj may need to do more"
   ]
  },
  {
   "cell_type": "code",
   "execution_count": null,
   "id": "ed2d1db4",
   "metadata": {},
   "outputs": [],
   "source": [
    "'''Exploratory Analysis and Data Visualization'''"
   ]
  },
  {
   "cell_type": "code",
   "execution_count": null,
   "id": "70dbc183",
   "metadata": {},
   "outputs": [],
   "source": [
    "#do some stat analysis on the data depending on proj"
   ]
  },
  {
   "cell_type": "code",
   "execution_count": null,
   "id": "70ad31b4",
   "metadata": {},
   "outputs": [],
   "source": [
    "#"
   ]
  },
  {
   "cell_type": "code",
   "execution_count": null,
   "id": "23e88742",
   "metadata": {},
   "outputs": [],
   "source": [
    "#line graph of each stock trend over time of dataset (should be a lot of graphs here indivudal and combined.)"
   ]
  },
  {
   "cell_type": "code",
   "execution_count": null,
   "id": "89bff265",
   "metadata": {},
   "outputs": [],
   "source": [
    "#maybe a violin plot or another type of plot we learned which fits topic/data"
   ]
  },
  {
   "cell_type": "code",
   "execution_count": null,
   "id": "9ad23c6f",
   "metadata": {},
   "outputs": [],
   "source": [
    "'''Model: Analysis, Hypothesis Testing, and Machine Learning'''"
   ]
  },
  {
   "cell_type": "code",
   "execution_count": null,
   "id": "11453e33",
   "metadata": {},
   "outputs": [],
   "source": [
    "#Make a linear regression model"
   ]
  },
  {
   "cell_type": "code",
   "execution_count": null,
   "id": "a4c70dc4",
   "metadata": {},
   "outputs": [],
   "source": [
    "#then make another one like a stochastic regression to show a comparison"
   ]
  },
  {
   "cell_type": "code",
   "execution_count": null,
   "id": "2adbda46",
   "metadata": {},
   "outputs": [],
   "source": [
    "#explain everthing "
   ]
  },
  {
   "cell_type": "code",
   "execution_count": null,
   "id": "0697b443",
   "metadata": {},
   "outputs": [],
   "source": []
  },
  {
   "cell_type": "code",
   "execution_count": null,
   "id": "b1a55752",
   "metadata": {},
   "outputs": [],
   "source": [
    "'''Interpretation: Insight & Policy Decision'''"
   ]
  },
  {
   "cell_type": "code",
   "execution_count": null,
   "id": "934e94ad",
   "metadata": {},
   "outputs": [],
   "source": []
  },
  {
   "cell_type": "code",
   "execution_count": null,
   "id": "023d3bad",
   "metadata": {},
   "outputs": [],
   "source": []
  },
  {
   "cell_type": "code",
   "execution_count": null,
   "id": "0c7b29bd",
   "metadata": {},
   "outputs": [],
   "source": []
  },
  {
   "cell_type": "code",
   "execution_count": null,
   "id": "3717f12d",
   "metadata": {},
   "outputs": [],
   "source": []
  }
 ],
 "metadata": {
  "kernelspec": {
   "display_name": "Python 3 (ipykernel)",
   "language": "python",
   "name": "python3"
  },
  "language_info": {
   "codemirror_mode": {
    "name": "ipython",
    "version": 3
   },
   "file_extension": ".py",
   "mimetype": "text/x-python",
   "name": "python",
   "nbconvert_exporter": "python",
   "pygments_lexer": "ipython3",
   "version": "3.11.5"
  }
 },
 "nbformat": 4,
 "nbformat_minor": 5
}
